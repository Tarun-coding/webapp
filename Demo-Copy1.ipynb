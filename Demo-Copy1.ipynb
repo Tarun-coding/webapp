{
 "cells": [
  {
   "cell_type": "code",
   "execution_count": 1,
   "id": "binding-glance",
   "metadata": {},
   "outputs": [],
   "source": [
    "import warnings\n",
    "warnings.filterwarnings('ignore')\n",
    "\n",
    "import ipywidgets as widgets\n",
    "from IPython.display import display, clear_output"
   ]
  },
  {
   "cell_type": "code",
   "execution_count": 2,
   "id": "according-supervisor",
   "metadata": {},
   "outputs": [],
   "source": [
    "import pandas as pd\n"
   ]
  },
  {
   "cell_type": "code",
   "execution_count": 3,
   "id": "6fe5e518",
   "metadata": {},
   "outputs": [],
   "source": [
    "df = pd.read_csv('crime_and_incarceration_by_state.csv')\n",
    "#df"
   ]
  },
  {
   "cell_type": "code",
   "execution_count": 4,
   "id": "30e5850b",
   "metadata": {},
   "outputs": [],
   "source": [
    "df.drop(columns=['rape_revised'], inplace=True)\n",
    "#df"
   ]
  },
  {
   "cell_type": "code",
   "execution_count": 5,
   "id": "06b2e089",
   "metadata": {},
   "outputs": [],
   "source": [
    "df[df['jurisdiction'] == 'FEDERAL']\n",
    "federal_rows = df[df['jurisdiction'] == 'FEDERAL']\n",
    "df.drop(federal_rows.index, inplace=True)\n",
    "#df"
   ]
  },
  {
   "cell_type": "code",
   "execution_count": 6,
   "id": "79d6d78a",
   "metadata": {},
   "outputs": [],
   "source": [
    "df[df['jurisdiction'] == 'NEW YORK']\n",
    "df.drop(746, inplace=True)"
   ]
  },
  {
   "cell_type": "code",
   "execution_count": 7,
   "id": "d1dadd98",
   "metadata": {},
   "outputs": [],
   "source": [
    "df[df['rape_legacy'].isna()]\n",
    "df.drop(df[df['rape_legacy'].isna()].index, inplace=True)\n",
    "df_copy = df.copy()\n",
    "numerical_columns = ['prisoner_count', 'violent_crime_total', 'murder_manslaughter', 'rape_legacy', 'robbery', 'agg_assault', 'property_crime_total', 'burglary', 'larceny', 'vehicle_theft']\n",
    "for column in numerical_columns:\n",
    "    df[column] /= df['state_population']\n",
    "#df.head()"
   ]
  },
  {
   "cell_type": "code",
   "execution_count": 8,
   "id": "98711fbb",
   "metadata": {},
   "outputs": [],
   "source": [
    "from sklearn.preprocessing import MinMaxScaler\n",
    "scaler = MinMaxScaler()\n",
    "df[numerical_columns] = scaler.fit_transform(df[numerical_columns])\n",
    "numerical_features = df.select_dtypes(['int64', 'float64'])\n",
    "df['crime_reporting_change'] = df['crime_reporting_change'].apply(lambda x: 1 if x == 'True' else 0)\n",
    "df['crimes_estimated'] = df['crimes_estimated'].apply(lambda x: 1 if x == 'True' else 0)\n",
    "\n"
   ]
  },
  {
   "cell_type": "code",
   "execution_count": 9,
   "id": "3422371f",
   "metadata": {},
   "outputs": [],
   "source": [
    "df = pd.get_dummies(df, columns=['jurisdiction'])\n",
    "df['year'] = scaler.fit_transform(df[['year']])\n",
    "numerical_features = df.select_dtypes(['int64', 'float64'])\n",
    "#df"
   ]
  },
  {
   "cell_type": "code",
   "execution_count": 10,
   "id": "152fc41f",
   "metadata": {},
   "outputs": [],
   "source": [
    "import seaborn as sns\n",
    "import matplotlib.pyplot as plt\n",
    "#plt.figure(figsize=(1,1))\n",
    "#g = sns.heatmap(numerical_features.corr(),annot=True,vmin=-1, vmax=1,center=0)\n",
    "#g.figure.set_size_inches(20,10)"
   ]
  },
  {
   "cell_type": "code",
   "execution_count": 11,
   "id": "defe2797",
   "metadata": {},
   "outputs": [],
   "source": [
    "df.drop(columns=['violent_crime_total', 'property_crime_total'], inplace=True)\n",
    "df_poverty_rate = pd.read_csv('poverty_rate_per_year.csv')\n",
    "\n",
    "df_poverty_rate.rename(columns = {'DATE' : 'Year', 'PPAAUS00000A156NCEN' : 'Poverty_rate'}, inplace = True)\n",
    "df_poverty_rate = df_poverty_rate.drop(labels = range(0, 12), axis = 0)\n",
    "df_poverty_rate = df_poverty_rate.drop(labels = range(28, 31), axis = 0)\n",
    "df_poverty_rate = df_poverty_rate.reset_index(drop = True)\n",
    "df_poverty_rate['Year'] = df_poverty_rate['Year'].astype(str)\n",
    "df_poverty_rate['Year'] = df_poverty_rate['Year'].str.slice(0, 4, 1)\n",
    "df_poverty_rate['Year'] = df_poverty_rate['Year'].astype(int)\n",
    "\n",
    "#df_poverty_rate"
   ]
  },
  {
   "cell_type": "code",
   "execution_count": 12,
   "id": "48ad06c8",
   "metadata": {},
   "outputs": [],
   "source": [
    "\n",
    "df_copy[\"poverty_rate\"] = \"\"\n",
    "\n",
    "df_copy.loc[df_copy['year'] == 2001, ['poverty_rate']] = df_poverty_rate['Poverty_rate'][0]\n",
    "df_copy.loc[df_copy['year'] == 2002, ['poverty_rate']] = df_poverty_rate['Poverty_rate'][1]\n",
    "df_copy.loc[df_copy['year'] == 2003, ['poverty_rate']] = df_poverty_rate['Poverty_rate'][2]\n",
    "df_copy.loc[df_copy['year'] == 2004, ['poverty_rate']] = df_poverty_rate['Poverty_rate'][3]\n",
    "df_copy.loc[df_copy['year'] == 2005, ['poverty_rate']] = df_poverty_rate['Poverty_rate'][4]\n",
    "df_copy.loc[df_copy['year'] == 2006, ['poverty_rate']] = df_poverty_rate['Poverty_rate'][5]\n",
    "df_copy.loc[df_copy['year'] == 2007, ['poverty_rate']] = df_poverty_rate['Poverty_rate'][6]\n",
    "df_copy.loc[df_copy['year'] == 2008, ['poverty_rate']] = df_poverty_rate['Poverty_rate'][7]\n",
    "df_copy.loc[df_copy['year'] == 2009, ['poverty_rate']] = df_poverty_rate['Poverty_rate'][8]\n",
    "df_copy.loc[df_copy['year'] == 2010, ['poverty_rate']] = df_poverty_rate['Poverty_rate'][9]\n",
    "df_copy.loc[df_copy['year'] == 2011, ['poverty_rate']] = df_poverty_rate['Poverty_rate'][10]\n",
    "df_copy.loc[df_copy['year'] == 2012, ['poverty_rate']] = df_poverty_rate['Poverty_rate'][11]\n",
    "df_copy.loc[df_copy['year'] == 2013, ['poverty_rate']] = df_poverty_rate['Poverty_rate'][12]\n",
    "df_copy.loc[df_copy['year'] == 2014, ['poverty_rate']] = df_poverty_rate['Poverty_rate'][13]\n",
    "df_copy.loc[df_copy['year'] == 2015, ['poverty_rate']] = df_poverty_rate['Poverty_rate'][14]\n",
    "df_copy.loc[df_copy['year'] == 2016, ['poverty_rate']] = df_poverty_rate['Poverty_rate'][15]\n"
   ]
  },
  {
   "cell_type": "code",
   "execution_count": 13,
   "id": "fa9dcebd",
   "metadata": {},
   "outputs": [],
   "source": [
    "import matplotlib.pyplot as plt\n",
    "import numpy as np\n",
    "from sklearn.linear_model import LinearRegression\n",
    "from sklearn.preprocessing import PolynomialFeatures\n",
    "from sklearn.metrics import mean_squared_error\n",
    "\n",
    "def performPolyReg(state, predictor, predicted,newDegree):\n",
    "    df_state = df_copy[df_copy['jurisdiction'] == state]\n",
    "    \n",
    "    degrees = np.arange(1,11) # array of degree values to try (we want to determine degree with lowest error)\n",
    "\n",
    "    min_rmse = 1e10 # intialize to really large number\n",
    "    best_deg = 0 \n",
    "\n",
    "    X = df_state[predictor].values.reshape(-1,1)\n",
    "    Y = df_state[predicted].values.reshape(-1,1)\n",
    "\n",
    "    for deg in degrees:\n",
    "        poly_reg = PolynomialFeatures(degree = deg)\n",
    "        X_poly = poly_reg.fit_transform(X.reshape(-1,1))\n",
    "\n",
    "        # fit must be included in a linear regression model\n",
    "        lin_reg = LinearRegression()\n",
    "        lin_reg.fit(X_poly, Y)\n",
    "        Y_poly_predict = lin_reg.predict(X_poly)\n",
    "\n",
    "        # calculating rmse\n",
    "        rmse = np.sqrt(mean_squared_error(Y, Y_poly_predict))\n",
    "\n",
    "        # If current degree gives a smaller error\n",
    "        if min_rmse > rmse:\n",
    "            min_rmse = rmse\n",
    "            best_deg = deg\n",
    "\n",
    "    # Plotting polynomial regression for the best degree\n",
    "    best_poly_reg = PolynomialFeatures(degree = newDegree)#best_deg)\n",
    "    X_poly = poly_reg.fit_transform(X.reshape(-1,1))\n",
    "    lin_reg = LinearRegression()\n",
    "    lin_reg.fit(X_poly, Y)\n",
    "    Y_poly_predict = lin_reg.predict(X_poly)\n",
    "\n",
    "    plt.scatter(X, Y, color='red')\n",
    "    plt.plot(X, lin_reg.predict(poly_reg.fit_transform(X.reshape(-1,1))), color='blue')\n",
    "    plt.xlabel(predictor)\n",
    "    plt.ylabel(predicted)\n",
    "    plt.show()\n",
    "    plt.figure(figsize=(100,100))\n",
    "\n",
    "    print('Best Degree:', best_deg)\n",
    "    print('RMSE:', min_rmse)"
   ]
  },
  {
   "cell_type": "code",
   "execution_count": 14,
   "id": "7d5fedd4",
   "metadata": {},
   "outputs": [],
   "source": [
    "# Image Widget\n",
    "\n",
    "file = open(\"news_incarceration.jpg.jfif\", \"rb\")\n",
    "image = file.read()\n",
    "\n",
    "image_headline = widgets.Image(\n",
    "                    value=image,\n",
    "                    format='jpg',\n",
    "                    width='300'\n",
    "                )\n",
    "\n",
    "label_headline = widgets.Label(\n",
    "                    value='Photo by CDC on Unsplash',\n",
    "                    style={'description_width': 'initial'}\n",
    "                )\n",
    "\n",
    "vbox_headline = widgets.VBox([image_headline, label_headline])"
   ]
  },
  {
   "cell_type": "code",
   "execution_count": 15,
   "id": "1265cd31",
   "metadata": {},
   "outputs": [],
   "source": [
    "# Dropdown widget for letting the user pick the state\n",
    "state=widgets.Dropdown(\n",
    "    options=['ALABAMA','ALASKA','ARIZONA','ARKANSAS','CALIFORNIA','COLORADO','CONNECTICUT','DELAWARE'\n",
    "            ,'FLORIDA','GEORGIA','HAWAII','IDAHO','ILLINOIS','INDIANA','IOWA','KANSAS','KENTUCKY','LOUISIANA'\n",
    "            ,'MAINE','MARYLAND','MASSACHUSETTS','MICHIGAN','MINNESOTA','MISSISSIPPI','MISSOURI','MONTANA','NEBRASKA',\n",
    "            'NEVADA','NEW HAMPSHIRE','NEW JERSEY','NEW MEXICO','NEW YORK','NORTH CAROLINA','NORTH DAKOTA','OHIO','OKLAHOMA','OREGON'\n",
    "            ,'PENNSYLVANIA','RHODE ISLAND','SOUTH CAROLINA','SOUTH DAKOTA','TENNESSEE','TEXAS','UTAH','VERMONT','VIRGINIA',\n",
    "             'WASHINGTON','WEST VIRGINIA','WISCONSIN','WYOMING'],\n",
    "    description='State:',\n",
    "    disabled=False,\n",
    ")\n"
   ]
  },
  {
   "cell_type": "code",
   "execution_count": 16,
   "id": "fb2b12cf",
   "metadata": {},
   "outputs": [],
   "source": [
    "# Letting the user pick the date\n",
    "#date = widgets.DatePicker(description='Pick a Date')\n",
    "date= widgets.IntSlider(\n",
    "            value=3, # default value\n",
    "            min=0, \n",
    "            max=10,\n",
    "            step=1,\n",
    "            style={'description_width': 'initial', 'handle_color': '#16a085'} \n",
    "        )"
   ]
  },
  {
   "cell_type": "code",
   "execution_count": 17,
   "id": "4c83a959",
   "metadata": {},
   "outputs": [],
   "source": [
    "#picking the degree of regression\n",
    "regressionDegree = widgets.IntSlider(\n",
    "            value=3, # default value\n",
    "            min=0, \n",
    "            max=10,\n",
    "            step=1,\n",
    "            style={'description_width': 'initial', 'handle_color': '#16a085'} \n",
    "        )"
   ]
  },
  {
   "cell_type": "code",
   "execution_count": 18,
   "id": "805e4224",
   "metadata": {},
   "outputs": [],
   "source": [
    "# button send\n",
    "\n",
    "button_send = widgets.Button(\n",
    "                description='Regression plot',\n",
    "                tooltip='Send',\n",
    "                style={'description_width': 'initial'}\n",
    "            )\n",
    "\n",
    "output = widgets.Output()\n",
    "\n",
    "def on_button_clicked(event):\n",
    "    with output:\n",
    "        clear_output()\n",
    "        performPolyReg(state.value, 'year', 'prisoner_count',regressionDegree.value)\n",
    "button_send.on_click(on_button_clicked)\n",
    "\n",
    "vbox_result = widgets.VBox([button_send, output])"
   ]
  },
  {
   "cell_type": "code",
   "execution_count": 19,
   "id": "a0e89192",
   "metadata": {},
   "outputs": [],
   "source": [
    "# Displaying the page and text\n",
    "\n",
    "text_0 = widgets.HTML(value=\"<h1>ECS 171 Project!</h1>\")\n",
    "\n",
    "text_1 = widgets.HTML(value=\"<h2>Pick state</h2>\")\n",
    "text_2= widgets.HTML(value=\"<h2>Pick year</h2>\")\n",
    "\n",
    "text_3= widgets.HTML(value=\"<h2>for dinner, if that's okay for you!</h2>\")\n",
    "text_4= widgets.HTML(value=\"<h2>Pick the degree of regression</h2>\")\n",
    "\n",
    "text_5= widgets.HTML(value=\"<h2>Click button for regression plot</h2>\")\n",
    "\n",
    "text_6=widgets.HTML(value=\"<h2>seaborn</h2>\")\n",
    "text_7= widgets.HTML(value=\"<h2>Crime and incarcerations</h2>\")\n",
    "text_8= widgets.HTML(value=\"<h2>Model attribute selection for prisinor count</h2>\")\n",
    "vbox_text = widgets.VBox([text_0,text_7,text_8,text_1, state, text_2, date, text_4, regressionDegree, text_5, vbox_result])\n"
   ]
  },
  {
   "cell_type": "code",
   "execution_count": 20,
   "id": "c0665773",
   "metadata": {},
   "outputs": [
    {
     "data": {
      "application/vnd.jupyter.widget-view+json": {
       "model_id": "7b4b673299034ff388c1ad8cf8960004",
       "version_major": 2,
       "version_minor": 0
      },
      "text/plain": [
       "HBox(children=(VBox(children=(Image(value=b'\\xff\\xd8\\xff\\xe0\\x00\\x10JFIF\\x00\\x01\\x01\\x00\\x00\\x01\\x00\\x01\\x00\\x…"
      ]
     },
     "metadata": {},
     "output_type": "display_data"
    },
    {
     "data": {
      "text/plain": [
       "<Figure size 7200x7200 with 0 Axes>"
      ]
     },
     "metadata": {},
     "output_type": "display_data"
    }
   ],
   "source": [
    "page = widgets.HBox([vbox_headline, vbox_text])\n",
    "\n",
    "display(page)"
   ]
  }
 ],
 "metadata": {
  "kernelspec": {
   "display_name": "Python 3",
   "language": "python",
   "name": "python3"
  },
  "language_info": {
   "codemirror_mode": {
    "name": "ipython",
    "version": 3
   },
   "file_extension": ".py",
   "mimetype": "text/x-python",
   "name": "python",
   "nbconvert_exporter": "python",
   "pygments_lexer": "ipython3",
   "version": "3.8.10"
  }
 },
 "nbformat": 4,
 "nbformat_minor": 5
}
